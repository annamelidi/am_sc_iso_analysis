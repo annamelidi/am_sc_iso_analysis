{
 "cells": [
  {
   "cell_type": "code",
   "execution_count": 2,
   "id": "abc96859",
   "metadata": {},
   "outputs": [],
   "source": [
    "import os \n",
    "os.environ['KMP_DUPLICATE_LIB_OK']='True'\n",
    "import numpy as np\n",
    "import anndata as ad\n",
    "import pandas as pd\n",
    "from scipy.sparse import csr_matrix\n"
   ]
  },
  {
   "cell_type": "code",
   "execution_count": 3,
   "id": "454360c2",
   "metadata": {},
   "outputs": [],
   "source": [
    "file_path = \"normed_genecode.h5ad\"\n",
    "adata = ad.read_h5ad(file_path)\n"
   ]
  },
  {
   "cell_type": "markdown",
   "id": "2a10b3b6",
   "metadata": {},
   "source": [
    "# Data exploration"
   ]
  },
  {
   "cell_type": "code",
   "execution_count": 4,
   "id": "a48ed6ac",
   "metadata": {
    "scrolled": true
   },
   "outputs": [
    {
     "data": {
      "text/plain": [
       "AnnData object with n_obs × n_vars = 26748 × 164607\n",
       "    obs: 'compartment', 'organ_tissue', 'cell_ontology_class', 'free_annotation'\n",
       "    var: 'gene_ID', 'gene_name', 'length', 'class', 'uniprot'\n",
       "    layers: 'log1p', 'norm'"
      ]
     },
     "execution_count": 4,
     "metadata": {},
     "output_type": "execute_result"
    }
   ],
   "source": [
    "adata"
   ]
  },
  {
   "cell_type": "code",
   "execution_count": 5,
   "id": "7cd94ba2",
   "metadata": {},
   "outputs": [
    {
     "data": {
      "text/html": [
       "<div>\n",
       "<style scoped>\n",
       "    .dataframe tbody tr th:only-of-type {\n",
       "        vertical-align: middle;\n",
       "    }\n",
       "\n",
       "    .dataframe tbody tr th {\n",
       "        vertical-align: top;\n",
       "    }\n",
       "\n",
       "    .dataframe thead th {\n",
       "        text-align: right;\n",
       "    }\n",
       "</style>\n",
       "<table border=\"1\" class=\"dataframe\">\n",
       "  <thead>\n",
       "    <tr style=\"text-align: right;\">\n",
       "      <th></th>\n",
       "      <th>compartment</th>\n",
       "      <th>organ_tissue</th>\n",
       "      <th>cell_ontology_class</th>\n",
       "      <th>free_annotation</th>\n",
       "    </tr>\n",
       "    <tr>\n",
       "      <th>cell_list</th>\n",
       "      <th></th>\n",
       "      <th></th>\n",
       "      <th></th>\n",
       "      <th></th>\n",
       "    </tr>\n",
       "  </thead>\n",
       "  <tbody>\n",
       "    <tr>\n",
       "      <th>TSP2_Blood_NA_SS2_B114658_B133046_LinPos_A10_S10</th>\n",
       "      <td>immune</td>\n",
       "      <td>Blood</td>\n",
       "      <td>cd4-positive, alpha-beta t cell</td>\n",
       "      <td>CD4 t cell</td>\n",
       "    </tr>\n",
       "    <tr>\n",
       "      <th>TSP2_Blood_NA_SS2_B114658_B133046_LinPos_A11_S11</th>\n",
       "      <td>immune</td>\n",
       "      <td>Blood</td>\n",
       "      <td>cd4-positive, alpha-beta t cell</td>\n",
       "      <td>CD4 t cell</td>\n",
       "    </tr>\n",
       "    <tr>\n",
       "      <th>TSP2_Blood_NA_SS2_B114658_B133046_LinPos_A12_S12</th>\n",
       "      <td>immune</td>\n",
       "      <td>Blood</td>\n",
       "      <td>cd4-positive, alpha-beta t cell</td>\n",
       "      <td>CD4 t cell</td>\n",
       "    </tr>\n",
       "    <tr>\n",
       "      <th>TSP2_Blood_NA_SS2_B114658_B133046_LinPos_A13_S13</th>\n",
       "      <td>immune</td>\n",
       "      <td>Blood</td>\n",
       "      <td>cd4-positive, alpha-beta t cell</td>\n",
       "      <td>CD4 t cell</td>\n",
       "    </tr>\n",
       "    <tr>\n",
       "      <th>TSP2_Blood_NA_SS2_B114658_B133046_LinPos_A14_S14</th>\n",
       "      <td>immune</td>\n",
       "      <td>Blood</td>\n",
       "      <td>cd4-positive, alpha-beta t cell</td>\n",
       "      <td>CD4 t cell</td>\n",
       "    </tr>\n",
       "    <tr>\n",
       "      <th>...</th>\n",
       "      <td>...</td>\n",
       "      <td>...</td>\n",
       "      <td>...</td>\n",
       "      <td>...</td>\n",
       "    </tr>\n",
       "    <tr>\n",
       "      <th>TSP3_Eye_noCornea_SS2_B114669_B133703_Epithelial_F8_L001</th>\n",
       "      <td>epithelial</td>\n",
       "      <td>Eye</td>\n",
       "      <td>conjunctival epithelial cell</td>\n",
       "      <td>conjunctiva - epithelial cells</td>\n",
       "    </tr>\n",
       "    <tr>\n",
       "      <th>TSP3_Eye_noCornea_SS2_B114669_B133703_Epithelial_G5_L001</th>\n",
       "      <td>epithelial</td>\n",
       "      <td>Eye</td>\n",
       "      <td>eye photoreceptor cell</td>\n",
       "      <td>retina - photoreceptor cells</td>\n",
       "    </tr>\n",
       "    <tr>\n",
       "      <th>TSP3_Eye_noCornea_SS2_B114669_B133703_Epithelial_H13_L001</th>\n",
       "      <td>epithelial</td>\n",
       "      <td>Eye</td>\n",
       "      <td>conjunctival epithelial cell</td>\n",
       "      <td>conjunctiva - epithelial cells</td>\n",
       "    </tr>\n",
       "    <tr>\n",
       "      <th>TSP3_Eye_noCornea_SS2_B114669_B133703_Epithelial_H6_L001</th>\n",
       "      <td>epithelial</td>\n",
       "      <td>Eye</td>\n",
       "      <td>corneal keratocyte</td>\n",
       "      <td>cornea - mesenchymal cells - stromal keratinoc...</td>\n",
       "    </tr>\n",
       "    <tr>\n",
       "      <th>TSP3_Eye_noCornea_SS2_B114669_B133703_Epithelial_I10_L001</th>\n",
       "      <td>epithelial</td>\n",
       "      <td>Eye</td>\n",
       "      <td>conjunctival epithelial cell</td>\n",
       "      <td>conjunctiva - epithelial cells</td>\n",
       "    </tr>\n",
       "  </tbody>\n",
       "</table>\n",
       "<p>26748 rows × 4 columns</p>\n",
       "</div>"
      ],
      "text/plain": [
       "                                                   compartment organ_tissue  \\\n",
       "cell_list                                                                     \n",
       "TSP2_Blood_NA_SS2_B114658_B133046_LinPos_A10_S10        immune        Blood   \n",
       "TSP2_Blood_NA_SS2_B114658_B133046_LinPos_A11_S11        immune        Blood   \n",
       "TSP2_Blood_NA_SS2_B114658_B133046_LinPos_A12_S12        immune        Blood   \n",
       "TSP2_Blood_NA_SS2_B114658_B133046_LinPos_A13_S13        immune        Blood   \n",
       "TSP2_Blood_NA_SS2_B114658_B133046_LinPos_A14_S14        immune        Blood   \n",
       "...                                                        ...          ...   \n",
       "TSP3_Eye_noCornea_SS2_B114669_B133703_Epithelia...  epithelial          Eye   \n",
       "TSP3_Eye_noCornea_SS2_B114669_B133703_Epithelia...  epithelial          Eye   \n",
       "TSP3_Eye_noCornea_SS2_B114669_B133703_Epithelia...  epithelial          Eye   \n",
       "TSP3_Eye_noCornea_SS2_B114669_B133703_Epithelia...  epithelial          Eye   \n",
       "TSP3_Eye_noCornea_SS2_B114669_B133703_Epithelia...  epithelial          Eye   \n",
       "\n",
       "                                                                cell_ontology_class  \\\n",
       "cell_list                                                                             \n",
       "TSP2_Blood_NA_SS2_B114658_B133046_LinPos_A10_S10    cd4-positive, alpha-beta t cell   \n",
       "TSP2_Blood_NA_SS2_B114658_B133046_LinPos_A11_S11    cd4-positive, alpha-beta t cell   \n",
       "TSP2_Blood_NA_SS2_B114658_B133046_LinPos_A12_S12    cd4-positive, alpha-beta t cell   \n",
       "TSP2_Blood_NA_SS2_B114658_B133046_LinPos_A13_S13    cd4-positive, alpha-beta t cell   \n",
       "TSP2_Blood_NA_SS2_B114658_B133046_LinPos_A14_S14    cd4-positive, alpha-beta t cell   \n",
       "...                                                                             ...   \n",
       "TSP3_Eye_noCornea_SS2_B114669_B133703_Epithelia...     conjunctival epithelial cell   \n",
       "TSP3_Eye_noCornea_SS2_B114669_B133703_Epithelia...           eye photoreceptor cell   \n",
       "TSP3_Eye_noCornea_SS2_B114669_B133703_Epithelia...     conjunctival epithelial cell   \n",
       "TSP3_Eye_noCornea_SS2_B114669_B133703_Epithelia...               corneal keratocyte   \n",
       "TSP3_Eye_noCornea_SS2_B114669_B133703_Epithelia...     conjunctival epithelial cell   \n",
       "\n",
       "                                                                                      free_annotation  \n",
       "cell_list                                                                                              \n",
       "TSP2_Blood_NA_SS2_B114658_B133046_LinPos_A10_S10                                           CD4 t cell  \n",
       "TSP2_Blood_NA_SS2_B114658_B133046_LinPos_A11_S11                                           CD4 t cell  \n",
       "TSP2_Blood_NA_SS2_B114658_B133046_LinPos_A12_S12                                           CD4 t cell  \n",
       "TSP2_Blood_NA_SS2_B114658_B133046_LinPos_A13_S13                                           CD4 t cell  \n",
       "TSP2_Blood_NA_SS2_B114658_B133046_LinPos_A14_S14                                           CD4 t cell  \n",
       "...                                                                                               ...  \n",
       "TSP3_Eye_noCornea_SS2_B114669_B133703_Epithelia...                     conjunctiva - epithelial cells  \n",
       "TSP3_Eye_noCornea_SS2_B114669_B133703_Epithelia...                       retina - photoreceptor cells  \n",
       "TSP3_Eye_noCornea_SS2_B114669_B133703_Epithelia...                     conjunctiva - epithelial cells  \n",
       "TSP3_Eye_noCornea_SS2_B114669_B133703_Epithelia...  cornea - mesenchymal cells - stromal keratinoc...  \n",
       "TSP3_Eye_noCornea_SS2_B114669_B133703_Epithelia...                     conjunctiva - epithelial cells  \n",
       "\n",
       "[26748 rows x 4 columns]"
      ]
     },
     "execution_count": 5,
     "metadata": {},
     "output_type": "execute_result"
    }
   ],
   "source": [
    "# Obs (samples)\n",
    "adata.obs"
   ]
  },
  {
   "cell_type": "code",
   "execution_count": null,
   "id": "7d6e1705",
   "metadata": {},
   "outputs": [],
   "source": []
  },
  {
   "cell_type": "code",
   "execution_count": 6,
   "id": "b55b3173",
   "metadata": {},
   "outputs": [
    {
     "data": {
      "text/plain": [
       "['Blood',\n",
       " 'Bone_Marrow',\n",
       " 'Muscle',\n",
       " 'Large_Intestine',\n",
       " 'Thymus',\n",
       " 'Lymph_Node',\n",
       " 'Small_Intestine',\n",
       " 'Lung',\n",
       " 'Bladder',\n",
       " 'Vasculature',\n",
       " 'Trachea',\n",
       " 'Mammary',\n",
       " 'Uterus',\n",
       " 'Eye',\n",
       " 'Spleen',\n",
       " 'Salivary_Gland',\n",
       " 'Tongue',\n",
       " 'Prostate',\n",
       " 'Pancreas',\n",
       " 'Fat',\n",
       " 'Skin',\n",
       " 'Liver',\n",
       " 'Kidney',\n",
       " 'Heart']"
      ]
     },
     "execution_count": 6,
     "metadata": {},
     "output_type": "execute_result"
    }
   ],
   "source": [
    "# Tissues\n",
    "adata.obs.organ_tissue.unique().tolist()"
   ]
  },
  {
   "cell_type": "code",
   "execution_count": 7,
   "id": "4cfa3a00",
   "metadata": {},
   "outputs": [
    {
     "data": {
      "text/plain": [
       "['cd4-positive, alpha-beta t cell',\n",
       " 'naive b cell',\n",
       " 'cd8-positive, alpha-beta t cell',\n",
       " 'nk cell',\n",
       " 'memory b cell',\n",
       " 'monocyte',\n",
       " 'macrophage',\n",
       " 'hematopoietic stem cell',\n",
       " 'granulocyte',\n",
       " 'plasma cell',\n",
       " 'erythroid progenitor',\n",
       " 'cd24 neutrophil',\n",
       " 'plasmablast',\n",
       " 'capillary endothelial cell',\n",
       " 'endothelial cell of vascular tree',\n",
       " 'skeletal muscle satellite stem cell',\n",
       " 'endothelial cell of lymphatic vessel',\n",
       " 'mature enterocyte',\n",
       " 'transit amplifying cell of large intestine',\n",
       " 'goblet cell',\n",
       " 'immature enterocyte',\n",
       " 'intestinal tuft cell',\n",
       " 'intestinal crypt stem cell',\n",
       " 'pericyte cell',\n",
       " 'mesenchymal stem cell',\n",
       " 't cell',\n",
       " 'fibroblast',\n",
       " 'vascular associated smooth muscle cell',\n",
       " 'fast muscle cell',\n",
       " 'mesothelial cell',\n",
       " 'medullary thymic epithelial cell',\n",
       " 'erythrocyte',\n",
       " 'mast cell',\n",
       " 'cd8-positive, alpha-beta memory t cell',\n",
       " 'naive thymus-derived cd4-positive, alpha-beta t cell',\n",
       " 'cd1c-positive myeloid dendritic cell',\n",
       " 'innate lymphoid cell',\n",
       " 'b cell',\n",
       " 'neutrophil',\n",
       " 'myofibroblast cell',\n",
       " 'bronchial smooth muscle cell',\n",
       " 'basophil',\n",
       " 'adventitial cell',\n",
       " 'lung microvascular endothelial cell',\n",
       " 'classical monocyte',\n",
       " 'type ii pneumocyte',\n",
       " 'cd4-positive, alpha-beta memory t cell',\n",
       " 'intermediate monocyte',\n",
       " 'endothelial cell',\n",
       " 'ciliated cell',\n",
       " 'secretory cell',\n",
       " 'basal cell',\n",
       " 'serous cell of epithelium of trachea',\n",
       " 'mucus secreting cell',\n",
       " 'tracheal goblet cell',\n",
       " 'ionocyte',\n",
       " 'smooth muscle cell',\n",
       " 'nampt neutrophil',\n",
       " 'myeloid progenitor',\n",
       " 'luminal epithelial cell of mammary gland',\n",
       " 'fibroblast of breast',\n",
       " 'endothelial cell of artery',\n",
       " 'vein endothelial cell',\n",
       " 'dendritic cell',\n",
       " 'microglial cell',\n",
       " 'eye photoreceptor cell',\n",
       " 'limbal stromal cell',\n",
       " 'conjunctival epithelial cell',\n",
       " 'melanocyte',\n",
       " 'muller cell',\n",
       " 'corneal keratocyte',\n",
       " 'retinal pigment epithelial cell',\n",
       " 'lacrimal gland functional unit cell',\n",
       " 'erythroid lineage cell',\n",
       " 'type i nk t cell',\n",
       " 'regulatory t cell',\n",
       " 'naive thymus-derived cd8-positive, alpha-beta t cell',\n",
       " 'cd141-positive myeloid dendritic cell',\n",
       " 'cd4-positive helper t cell',\n",
       " 'epithelial cell of uterus',\n",
       " 'epithelial cell',\n",
       " 'ciliated epithelial cell',\n",
       " 'platelet',\n",
       " 'cd8-positive, alpha-beta cytokine secreting effector t cell',\n",
       " 'keratinocyte',\n",
       " 'tongue muscle cell',\n",
       " 'immune cell',\n",
       " 'stromal cell',\n",
       " 'basal cell of prostate epithelium',\n",
       " 'nkt cell',\n",
       " 'myeloid cell',\n",
       " 'pancreatic acinar cell',\n",
       " 'leucocyte',\n",
       " 'muscle cell',\n",
       " 'cd8-positive alpha-beta t cell',\n",
       " 'cd4-positive alpha-beta t cell',\n",
       " 'mature conventional dendritic cell',\n",
       " 'non-classical monocyte',\n",
       " 'hepatocyte',\n",
       " 'mature nk t cell',\n",
       " 'immature natural killer cell',\n",
       " 'plasmacytoid dendritic cell',\n",
       " 'transit amplifying cell of small intestine',\n",
       " 'paneth cell of epithelium of small intestine',\n",
       " 'alveolar fibroblast',\n",
       " 'lung ciliated cell',\n",
       " 'respiratory goblet cell',\n",
       " 'intestinal enteroendocrine cell',\n",
       " 'tendon cell',\n",
       " 'kidney epithelial cell',\n",
       " 'pancreatic stellate cell',\n",
       " 'pancreatic ductal cell',\n",
       " 'slow muscle cell',\n",
       " 'type i pneumocyte',\n",
       " 'capillary aerocyte',\n",
       " 'club cell',\n",
       " 'pancreatic alpha cell',\n",
       " 'bladder urothelial cell',\n",
       " 'pancreatic pp cell',\n",
       " 'pancreatic beta cell',\n",
       " 'langerhans cell',\n",
       " 'cd8-positive, alpha-beta cytotoxic t cell',\n",
       " 'duodenum glandular cell',\n",
       " 'serous cell of epithelium of bronchus',\n",
       " 'fibroblast of cardiac tissue',\n",
       " 'cardiac muscle cell',\n",
       " 'cardiac endothelial cell',\n",
       " 'intrahepatic cholangiocyte',\n",
       " 'endothelial cell of hepatic sinusoid',\n",
       " 'liver dendritic cell',\n",
       " 'retinal bipolar neuron',\n",
       " 'radial glial cell',\n",
       " 'retinal blood vessel endothelial cell']"
      ]
     },
     "execution_count": 7,
     "metadata": {},
     "output_type": "execute_result"
    }
   ],
   "source": [
    "# Cells\n",
    "adata.obs.cell_ontology_class.unique().tolist()"
   ]
  },
  {
   "cell_type": "code",
   "execution_count": 11,
   "id": "83f5eef5",
   "metadata": {},
   "outputs": [
    {
     "data": {
      "text/plain": [
       "Muscle             5043\n",
       "Lymph_Node         2383\n",
       "Bone_Marrow        2290\n",
       "Spleen             2148\n",
       "Blood              1832\n",
       "Lung               1534\n",
       "Tongue             1391\n",
       "Bladder            1161\n",
       "Pancreas            895\n",
       "Vasculature         847\n",
       "Skin                844\n",
       "Salivary_Gland      832\n",
       "Fat                 651\n",
       "Prostate            633\n",
       "Small_Intestine     606\n",
       "Thymus              599\n",
       "Mammary             580\n",
       "Trachea             474\n",
       "Large_Intestine     442\n",
       "Eye                 417\n",
       "Kidney              370\n",
       "Uterus              286\n",
       "Heart               277\n",
       "Liver               213\n",
       "Name: organ_tissue, dtype: int64"
      ]
     },
     "execution_count": 11,
     "metadata": {},
     "output_type": "execute_result"
    }
   ],
   "source": [
    "# Do we need to subset? Based on what?? Max samples per tissue?\n",
    "\n",
    "organ_tissue_counts = adata.obs['organ_tissue'].value_counts()\n",
    "organ_tissue_counts\n"
   ]
  },
  {
   "cell_type": "code",
   "execution_count": 9,
   "id": "07d1838d",
   "metadata": {},
   "outputs": [
    {
     "data": {
      "text/plain": [
       "<26748x164607 sparse matrix of type '<class 'numpy.float32'>'\n",
       "\twith 120778929 stored elements in Compressed Sparse Row format>"
      ]
     },
     "execution_count": 9,
     "metadata": {},
     "output_type": "execute_result"
    }
   ],
   "source": [
    "# Count Matrix \n",
    "adata.X"
   ]
  },
  {
   "cell_type": "code",
   "execution_count": 45,
   "id": "ac81c249",
   "metadata": {},
   "outputs": [],
   "source": [
    "adata.X = csr_matrix(adata.X)\n",
    "count_matrix = adata.X\n",
    "count_matrix = adata.X.toarray()"
   ]
  },
  {
   "cell_type": "code",
   "execution_count": 46,
   "id": "a584dfb8",
   "metadata": {},
   "outputs": [
    {
     "data": {
      "text/plain": [
       "array([[   0.   ,    0.   ,    0.   , ...,    0.   ,    0.   ,    0.   ],\n",
       "       [   0.   ,    0.   ,    0.   , ...,    0.   ,    0.   ,    0.   ],\n",
       "       [   0.   ,    0.   ,    0.   , ...,    0.   ,    0.   ,    0.   ],\n",
       "       ...,\n",
       "       [   0.   ,    0.   ,    0.   , ...,  957.368,    0.   ,    0.   ],\n",
       "       [   0.   ,    0.   ,    0.   , ..., 1548.   ,    0.   ,    0.   ],\n",
       "       [   0.   ,    0.   ,    0.   , ...,    0.   ,    0.   ,    0.   ]],\n",
       "      dtype=float32)"
      ]
     },
     "execution_count": 46,
     "metadata": {},
     "output_type": "execute_result"
    }
   ],
   "source": [
    "count_matrix"
   ]
  },
  {
   "cell_type": "code",
   "execution_count": 11,
   "id": "07fc8935",
   "metadata": {},
   "outputs": [
    {
     "data": {
      "text/plain": [
       "Index(['ENST00000641515.2', 'ENST00000426406.4', 'ENST00000332831.5',\n",
       "       'ENST00000618779.5', 'ENST00000466827.1', 'ENST00000618323.5',\n",
       "       'ENST00000478729.1', 'ENST00000474461.1', 'ENST00000341065.8',\n",
       "       'ENST00000342066.8',\n",
       "       ...\n",
       "       'ENST00000616638.1', 'ENST00000621028.1', 'ENST00000611339.1',\n",
       "       'ENST00000613216.4', 'ENST00000611746.1', 'ENST00000619792.1',\n",
       "       'ENST00000617983.1', 'ENST00000613204.1', 'ENST00000621424.4',\n",
       "       'ENST00000615165.1'],\n",
       "      dtype='object', name='transcript_id', length=164607)"
      ]
     },
     "execution_count": 11,
     "metadata": {},
     "output_type": "execute_result"
    }
   ],
   "source": [
    "# Isoforms\n",
    "adata.var_names"
   ]
  },
  {
   "cell_type": "markdown",
   "id": "386d880f",
   "metadata": {},
   "source": [
    "# Data Extraction"
   ]
  },
  {
   "cell_type": "code",
   "execution_count": 47,
   "id": "ae3842ac",
   "metadata": {},
   "outputs": [
    {
     "ename": "OSError",
     "evalue": "[Errno 28] No space left on device",
     "output_type": "error",
     "traceback": [
      "\u001b[0;31m---------------------------------------------------------------------------\u001b[0m",
      "\u001b[0;31mOSError\u001b[0m                                   Traceback (most recent call last)",
      "\u001b[0;32m/var/folders/xp/mjy78tz52qv4c8p9ldxpxg9w0000gn/T/ipykernel_2531/1324204850.py\u001b[0m in \u001b[0;36m<module>\u001b[0;34m\u001b[0m\n\u001b[1;32m      3\u001b[0m \u001b[0misoform_names\u001b[0m \u001b[0;34m=\u001b[0m \u001b[0madata\u001b[0m\u001b[0;34m.\u001b[0m\u001b[0mvar_names\u001b[0m\u001b[0;34m\u001b[0m\u001b[0;34m\u001b[0m\u001b[0m\n\u001b[1;32m      4\u001b[0m \u001b[0;34m\u001b[0m\u001b[0m\n\u001b[0;32m----> 5\u001b[0;31m \u001b[0mnp\u001b[0m\u001b[0;34m.\u001b[0m\u001b[0msavetxt\u001b[0m\u001b[0;34m(\u001b[0m\u001b[0;34m\"count_matrix.csv\"\u001b[0m\u001b[0;34m,\u001b[0m \u001b[0mcount_matrix\u001b[0m\u001b[0;34m,\u001b[0m \u001b[0mdelimiter\u001b[0m\u001b[0;34m=\u001b[0m\u001b[0;34m\",\"\u001b[0m\u001b[0;34m,\u001b[0m \u001b[0mheader\u001b[0m\u001b[0;34m=\u001b[0m\u001b[0;34m\",\"\u001b[0m\u001b[0;34m.\u001b[0m\u001b[0mjoin\u001b[0m\u001b[0;34m(\u001b[0m\u001b[0msample_names\u001b[0m\u001b[0;34m)\u001b[0m\u001b[0;34m,\u001b[0m \u001b[0mcomments\u001b[0m\u001b[0;34m=\u001b[0m\u001b[0;34m\"\"\u001b[0m\u001b[0;34m)\u001b[0m\u001b[0;34m\u001b[0m\u001b[0;34m\u001b[0m\u001b[0m\n\u001b[0m\u001b[1;32m      6\u001b[0m \u001b[0;34m\u001b[0m\u001b[0m\n\u001b[1;32m      7\u001b[0m \u001b[0;34m\u001b[0m\u001b[0m\n",
      "\u001b[0;32m<__array_function__ internals>\u001b[0m in \u001b[0;36msavetxt\u001b[0;34m(*args, **kwargs)\u001b[0m\n",
      "\u001b[0;32m~/opt/anaconda3/lib/python3.9/site-packages/numpy/lib/npyio.py\u001b[0m in \u001b[0;36msavetxt\u001b[0;34m(fname, X, fmt, delimiter, newline, header, footer, comments, encoding)\u001b[0m\n\u001b[1;32m   1438\u001b[0m                                     \u001b[0;34m\"format specifier ('%s')\"\u001b[0m\u001b[0;34m\u001b[0m\u001b[0;34m\u001b[0m\u001b[0m\n\u001b[1;32m   1439\u001b[0m                                     % (str(X.dtype), format)) from e\n\u001b[0;32m-> 1440\u001b[0;31m                 \u001b[0mfh\u001b[0m\u001b[0;34m.\u001b[0m\u001b[0mwrite\u001b[0m\u001b[0;34m(\u001b[0m\u001b[0mv\u001b[0m\u001b[0;34m)\u001b[0m\u001b[0;34m\u001b[0m\u001b[0;34m\u001b[0m\u001b[0m\n\u001b[0m\u001b[1;32m   1441\u001b[0m \u001b[0;34m\u001b[0m\u001b[0m\n\u001b[1;32m   1442\u001b[0m         \u001b[0;32mif\u001b[0m \u001b[0mlen\u001b[0m\u001b[0;34m(\u001b[0m\u001b[0mfooter\u001b[0m\u001b[0;34m)\u001b[0m \u001b[0;34m>\u001b[0m \u001b[0;36m0\u001b[0m\u001b[0;34m:\u001b[0m\u001b[0;34m\u001b[0m\u001b[0;34m\u001b[0m\u001b[0m\n",
      "\u001b[0;31mOSError\u001b[0m: [Errno 28] No space left on device"
     ]
    }
   ],
   "source": [
    "# Extract information\n",
    "sample_names = adata.obs_names\n",
    "isoform_names = adata.var_names\n",
    "\n",
    "np.savetxt(\"count_matrix.csv\", count_matrix, delimiter=\",\", header=\",\".join(sample_names), comments=\"\")\n",
    "\n",
    "\n"
   ]
  }
 ],
 "metadata": {
  "kernelspec": {
   "display_name": "Python 3 (ipykernel)",
   "language": "python",
   "name": "python3"
  },
  "language_info": {
   "codemirror_mode": {
    "name": "ipython",
    "version": 3
   },
   "file_extension": ".py",
   "mimetype": "text/x-python",
   "name": "python",
   "nbconvert_exporter": "python",
   "pygments_lexer": "ipython3",
   "version": "3.9.13"
  }
 },
 "nbformat": 4,
 "nbformat_minor": 5
}
